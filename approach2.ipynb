
def build_prefix_sums(arr):
    
    n = len(arr)
    pref = [0] * (n+1)
    for i in range(n):
        pref[i+1] = pref[i] + arr[i]
    return pref


#arr = [2, 5, 1, 4, 3]
arr = np.array([262004235.3000, 199636114.3800, 72465218.7200,61534275.0000,  57631312.3700,  38334631.2400,30773390.4700], dtype=float)
pref = build_prefix_sums(arr)


# sum of slice arr[1:4] -> [5, 1, 4]
l, r = 0, 7
slice_sum = pref[r] - pref[l]  # pref[4] - pref[1] = (2+5+1+4) - (2) = 10
print(f"{slice_sum:,.3f}")  # 10
