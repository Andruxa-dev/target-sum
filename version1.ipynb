import numpy as np








def is_in_value_exists(x, arr, tol=1e-7):
    # Instead of exact `in`, let's do np.isclose check
    for val in arr:
        if np.isclose(val, x, atol=tol):
            return True
    return False








def window_slide_cum_sum(arr: np.ndarray, target: float):

    
    results = []
    
    for start in range(0,len(arr)):
        
        
        
        print("-----------------------------------")
        #print(f"")
        print(f"target is: {target:.3f}")
        remainder = target - arr[start]
        print(f"remainder: {remainder:,.3f} start: {start} array element:{arr[start]}")
        
        
        
        
        
        if np.isclose(remainder, 0.0, atol=1e-9):
            results.append((arr[start:start+1], 0.0))
            continue
        
        
        
        
        
        if remainder > 0 and is_in_value_exists(remainder, arr):
            results.append((arr[start], 0.0))
            
            pass
            
        ############################################################################ 
        counter = 1
        while remainder > 0 and (start + counter) < len(arr):
            
            
            
            remainder = remainder - arr[start+counter]
            
            print(f"dynamic remainder: {remainder:,.3f}")
            
            
            
            
            if arr[start+counter] > remainder:
                
                print(f"array element{arr[start+counter]:,.3f} bigger than remainder {remainder:,.3f}" )
                pass
            
            else:
                print(f"array element{arr[start+counter]:,.3f} smaller than remainder {remainder:,.3f}" )
                #remainder = remainder - arr[start+counter]
                
            counter +=1
            

        
        
            
            
    return results







if __name__ == "__main__":
    
    
    
    arr = np.array([262004235.3000, 199636114.3800, 72465218.7200,61534275.0000,  57631312.3700,  38334631.2400,30773390.4700], dtype=float)
    
    
    
    
    arr = np.abs(arr)
    arr[::-1].sort()

    
    

    target = arr[1] + arr[2] + arr[4] + arr[5]
    #target = arr[2] + arr[1] 

  
    
    combos = window_slide_cum_sum(arr, target)
    
    print("\nRESULTS:")
    for c in combos:
        print(c)
