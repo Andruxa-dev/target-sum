import numpy as np


def deduplicate_combos(combos, decimals=5):

    unique_signatures = set()

    for (subarr, rem) in combos:

        merged_list = list(subarr) + [rem]
        
        merged_list = [round(x, decimals) for x in merged_list]

        merged_list.sort()
        
        signature = tuple(merged_list)
        
        unique_signatures.add(signature)
    

    return list(unique_signatures)

def is_in_value_exists(x, arr, tol=1e-7):
    # Instead of exact `in`, let's do np.isclose check
    for val in arr:
        if np.isclose(val, x, atol=tol):
            return True
    return False

def slide_(start, remainder, arr, target, value_exists):
    
    if is_in_value_exists(remainder, arr):
        print(f"REMAINDER FOUND! {remainder}")
        return np.array([arr[start]]), remainder
        
    n = len(arr)
    counter = 1
    
    # while remainder > 0 ...
    while remainder > 0 and (start + counter) < n:
        current_slice = arr[start : start+counter+1]
        current_sum = current_slice.sum()
        remainder = target - current_sum
        
        print(f"  iteration slice={current_slice}, remainder={remainder:,.3f}")
        
        # EXACT subarray match (within tolerance):
        if np.isclose(remainder, 0.0, atol=1e-9):
            return current_slice, 0.0
        
        # Check if leftover remainder is in arr (within tolerance)
        if is_in_value_exists(remainder, arr):
            print(f"REMAINDER FOUND! {remainder}")
            return current_slice, remainder

        counter += 1
    
    final_slice = arr[start : start+counter-1]
    final_remainder = target - final_slice.sum()
    return final_slice, final_remainder


def window_slide_cum_sum(arr: np.ndarray, target: float):
    n = len(arr)
    if n == 0:
        return []
    
    results = []
    
    for start in range(n):
        print("\n----------------------------------")
        print(f"start={start}, value={arr[start]:,.3f}, target={target:,.3f}")
        remainder = target - arr[start]
        print(f" initial remainder is {remainder:,.3f}")
        
        if np.isclose(remainder, 0.0, atol=1e-9):
            results.append((arr[start:start+1], 0.0))
            continue
        
        if remainder > 0:
            final_slice, final_remainder = slide_(start, remainder, arr, target, arr)
            print(f" slide_ returned slice={final_slice}, remainder={final_remainder:,.3f}")
            
            if np.isclose(final_remainder, 0.0, atol=1e-9):
                results.append((final_slice, 0.0))
            elif is_in_value_exists(final_remainder, arr):
                results.append((final_slice, final_remainder))
            else:
                print(f" remainder {final_remainder:,.3f} is not in dictionary")
    
    
    results2 = deduplicate_combos(results, decimals=5)
    return results2

if __name__ == "__main__":
    arr = np.array([
        262004235.3000, 199636114.3800, 72465218.7200,
        61534275.0000,  57631312.3700,  38334631.2400,
        30773390.4700
    ], dtype=float)
    
    arr = np.abs(arr)
    arr[::-1].sort()

    # E.g. arr[1] + arr[2] + arr[4]
    #target = arr[1]
    #target = arr[1] + arr[2] + arr[4] + arr[5]
    
    target = arr[1] + arr[3]
    
    
    
    
    
    
    
    combos = window_slide_cum_sum(arr, target)
    print("\nRESULTS:")
    for c in combos:
        print(c)
