import time
import numpy as np
import matplotlib.pyplot as plt




def time_complexity_decorator(start=10, stop=1000, step=10, repeats=5):
    
    def decorator(func):
        def wrapper(*args, **kwargs):
            input_sizes = np.arange(start, stop, step)
            times = []
            result = None  # To store the last function call's result

            for size in input_sizes:
                durations = []
                
                for _ in range(repeats):
                    
                    
                    
                    
                    
                    # Measure time
                    start_time = time.perf_counter()
                    result = func(size, *args, **kwargs)  # Capture the result
                    end_time = time.perf_counter()
                    
                    durations.append(end_time - start_time)
                
                times.append(np.mean(durations))  # Average time over multiple runs

                
                
                
                
                
                
            # Plot results
            plt.figure(figsize=(8, 5))
            plt.plot(input_sizes, times, marker='o', linestyle='-', label=func.__name__)
            plt.xlabel("Input Size")
            plt.ylabel("Execution Time (seconds)")
            plt.title("Time Complexity Analysis")
            plt.legend()
            plt.grid(True)
            plt.show()

            return result  # Ensure the function result is returned

        return wrapper
    return decorator



@time_complexity_decorator(start=100, stop=5000, step=200, repeats=3)
def constant_time(n):
    arr = np.arange(n)  # Create an array
    return arr[0]  # Access first element (always constant time)

constant_time()

@time_complexity_decorator(start=100, stop=5000, step=200, repeats=3)
def logarithmic_time(n):
    arr = np.arange(n)  # Create a sorted array
    target = arr[-1]  # Pick the last element
    left, right = 0, len(arr) - 1
    
    while left <= right:
        mid = (left + right) // 2
        if arr[mid] == target:
            return mid
        elif arr[mid] < target:
            left = mid + 1
        else:
            right = mid - 1
    return -1  # Not found

logarithmic_time()

@time_complexity_decorator(start=100, stop=5000, step=200, repeats=3)
def linear_time(n):
    arr = np.arange(n)
    target = n - 1  # Searching for the last element
    
    for i in arr:
        if i == target:
            return i
    return -1  # Not found

linear_time()
